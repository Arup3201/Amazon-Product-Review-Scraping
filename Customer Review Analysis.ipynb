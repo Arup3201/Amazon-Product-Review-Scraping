{
 "cells": [
  {
   "cell_type": "markdown",
   "id": "aca86542-115d-483a-9f37-9da678286b99",
   "metadata": {},
   "source": [
    "Objective: To serve their customers better, businesses need to be aware of their feedback. By collecting and analyzing the customers’ reviews, businesses can know about insightful trends of customers and fine-tune their products and services accordingly.\n",
    "\n",
    "Project Idea: In this project, pick a product available on any popular e-commerce website and scrape data for that product. You have to scrape and analyze the customer feedback and use this scraped data to analyze the customers’ sentiment. Further, you can do the required statistical analysis to draw insightful inferences."
   ]
  },
  {
   "cell_type": "markdown",
   "id": "364619ea-bd6a-4b9a-9471-c41e82007e8c",
   "metadata": {},
   "source": [
    "**CHANGES TO THE PROJECT**\n",
    "\n",
    "Actually I was making this project for \"Apple iPhone 13 (128 GB) - Blue\"\n",
    "\n",
    "But suddenly everything related to this product was vanished. So I needed to change the product as for that time."
   ]
  },
  {
   "cell_type": "markdown",
   "id": "789c20d4-3c76-4cb5-b4c8-036e1af42a95",
   "metadata": {},
   "source": [
    "# Scraping data for a product from Amazon\n",
    "## Product Name\n",
    "##### Samsung Galaxy M04 Dark Blue, 4GB RAM, 64GB Storage | Upto 8GB RAM with RAM Plus | MediaTek Helio P35 | 5000 mAh Battery"
   ]
  },
  {
   "cell_type": "markdown",
   "id": "053a2a9f-ec2a-4383-9a8f-c3e4b60eba51",
   "metadata": {},
   "source": [
    "Link for the product in amazon is [here](https://www.amazon.in/Samsung-Galaxy-Storage-MediaTek-Battery/product-reviews/B0BMGB3CH9/ref=cm_cr_dp_d_show_all_btm?ie=UTF8&reviewerType=all_reviews)"
   ]
  },
  {
   "cell_type": "markdown",
   "id": "34ee02ac-b27f-42da-b610-c880223c43bd",
   "metadata": {},
   "source": [
    "Attributes I will be taking are user name, ratings, brief description of the feedback and the whole feedback"
   ]
  },
  {
   "cell_type": "code",
   "execution_count": 1,
   "id": "da708b13-a905-42db-ba4d-a65c25897865",
   "metadata": {},
   "outputs": [],
   "source": [
    "from bs4 import BeautifulSoup\n",
    "from selenium import webdriver\n",
    "from selenium.webdriver.chrome.options import Options\n",
    "from selenium.webdriver.common.keys import Keys\n",
    "from selenium.webdriver.common.by import By\n",
    "from selenium.webdriver.chrome.service import Service\n",
    "from webdriver_manager.chrome import ChromeDriverManager\n",
    "from time import sleep"
   ]
  },
  {
   "cell_type": "code",
   "execution_count": 2,
   "id": "19df8d45-24c6-4f9c-96b3-9cfe89dcb020",
   "metadata": {},
   "outputs": [],
   "source": [
    "driver = webdriver.Chrome(service=Service(ChromeDriverManager().install()))"
   ]
  },
  {
   "cell_type": "code",
   "execution_count": 3,
   "id": "1d19528b-fe8a-4585-8f46-82b73aa06c60",
   "metadata": {},
   "outputs": [],
   "source": [
    "url = \"https://www.amazon.in/Samsung-Galaxy-Storage-MediaTek-Battery/product-reviews/B0BMGB3CH9/ref=cm_cr_dp_d_show_all_btm?ie=UTF8&reviewerType=all_reviews\"\n",
    "driver.get(url)"
   ]
  },
  {
   "cell_type": "code",
   "execution_count": 4,
   "id": "b7c71328-ac01-4cb1-b1b6-678e0d0d25a3",
   "metadata": {},
   "outputs": [],
   "source": [
    "src = driver.page_source"
   ]
  },
  {
   "cell_type": "code",
   "execution_count": 5,
   "id": "200d9843-94ae-450e-b54d-8754964f176d",
   "metadata": {},
   "outputs": [],
   "source": [
    "review_soup = BeautifulSoup(src, features=\"html.parser\")"
   ]
  },
  {
   "cell_type": "code",
   "execution_count": 6,
   "id": "60351ef3-a07e-4adb-9e48-aa29226d6cb4",
   "metadata": {},
   "outputs": [
    {
     "data": {
      "text/plain": [
       "10"
      ]
     },
     "execution_count": 6,
     "metadata": {},
     "output_type": "execute_result"
    }
   ],
   "source": [
    "# Check whether you are getting 10 review sources or not\n",
    "review_srcs = review_soup.findAll(\"div\", attrs={\"class\": \"a-section celwidget\"})\n",
    "len(review_srcs)\n",
    "# for review_src in review_soup.findAll(\"div\", attrs={\"class\": \"a-section celwidget\"})"
   ]
  },
  {
   "cell_type": "code",
   "execution_count": 7,
   "id": "021d822c-8955-4752-8843-83ccbf332c57",
   "metadata": {},
   "outputs": [],
   "source": [
    "# Without pressing the next button just taking the reviews of 1 page\n",
    "\n",
    "reviews = {\"User\": [], \"Rating\": [], \"Brief Feedback\": [], \"Date of Review\": [], \"Review Text\": []}\n",
    "\n",
    "for review_src in review_soup.findAll(\"div\", attrs={\"class\": \"a-section celwidget\"}):\n",
    "    user = review_src.find(\"span\", attrs={'class': 'a-profile-name'}).text.strip()\n",
    "    rating = review_src.find(\"span\", attrs={\"class\": \"a-icon-alt\"}).text.strip().split(\" \")[0]\n",
    "    brief_feedback = review_src.find(\"a\", attrs={'class': 'a-size-base a-link-normal review-title a-color-base review-title-content a-text-bold'}).text.strip()\n",
    "    date_of_review = \" \".join(review_src.find(\"span\", attrs={'class': 'a-size-base a-color-secondary review-date'}).text.strip().split(\" \")[-3:])\n",
    "    review_text = review_src.find(\"span\", attrs={'class': 'a-size-base review-text review-text-content'}).text.strip()\n",
    "    \n",
    "    reviews[\"User\"].append(user)\n",
    "    reviews[\"Rating\"].append(rating)\n",
    "    reviews[\"Brief Feedback\"].append(brief_feedback)\n",
    "    reviews[\"Date of Review\"].append(date_of_review)\n",
    "    reviews[\"Review Text\"].append(review_text)"
   ]
  },
  {
   "cell_type": "code",
   "execution_count": 8,
   "id": "ea25b993-c1e6-4220-aac8-6345987de410",
   "metadata": {},
   "outputs": [
    {
     "data": {
      "text/plain": [
       "10"
      ]
     },
     "execution_count": 8,
     "metadata": {},
     "output_type": "execute_result"
    }
   ],
   "source": [
    "len(reviews[\"Review Text\"]) # Just check whether all fit together or not"
   ]
  },
  {
   "cell_type": "code",
   "execution_count": 9,
   "id": "074a7be4-21ea-4709-b045-a6087c518ab9",
   "metadata": {},
   "outputs": [],
   "source": [
    "# Press the next button\n",
    "pagination_section = driver.find_element(by=By.CLASS_NAME, value=\"a-pagination\")\n",
    "next_button = pagination_section.find_element(by=By.CLASS_NAME, value=\"a-last\")\n",
    "next_button.click()"
   ]
  },
  {
   "cell_type": "code",
   "execution_count": 10,
   "id": "722bd143-cc92-48cd-bc85-c4ef841e2a7b",
   "metadata": {},
   "outputs": [
    {
     "name": "stdout",
     "output_type": "stream",
     "text": [
      "PAGES END HERE\n"
     ]
    }
   ],
   "source": [
    "# When you can't click on the next button? That is when you will stop going forward\n",
    "# Code to go till the last review page and see what happens when there is no more next page\n",
    "while(1):\n",
    "    pagination_section = driver.find_element(by=By.CLASS_NAME, value=\"a-pagination\")\n",
    "    sleep(3)\n",
    "    try:\n",
    "        next_button = pagination_section.find_element(by=By.CLASS_NAME, value=\"a-last\")\n",
    "        next_button.click()\n",
    "    except:\n",
    "        print(\"PAGES END HERE\")\n",
    "        break;"
   ]
  },
  {
   "cell_type": "code",
   "execution_count": 11,
   "id": "0405a4b7-3158-4c7b-a11c-b506b9e8ca4c",
   "metadata": {},
   "outputs": [],
   "source": [
    "# If you ran the above cells then the driver is not on the first page, so bring it to the first page\n",
    "url = \"https://www.amazon.in/Samsung-Galaxy-Storage-MediaTek-Battery/product-reviews/B0BMGB3CH9/ref=cm_cr_dp_d_show_all_btm?ie=UTF8&reviewerType=all_reviews\"\n",
    "driver.get(url)\n",
    "\n",
    "# Keep on clicking next untill the end, and store the reviews\n",
    "reviews = {\"User\": [], \"Rating\": [], \"Brief Feedback\": [], \"Date of Review\": [], \"Review Text\": []}\n",
    "while(1):\n",
    "    try:\n",
    "        # Store the reviews of that specific page\n",
    "        for review_src in review_soup.findAll(\"div\", attrs={\"class\": \"a-section celwidget\"}):\n",
    "            user = review_src.find(\"span\", attrs={'class': 'a-profile-name'}).text.strip()\n",
    "            rating = review_src.find(\"span\", attrs={\"class\": \"a-icon-alt\"}).text.strip().split(\" \")[0]\n",
    "            brief_feedback = review_src.find(\"a\", attrs={'class': 'a-size-base a-link-normal review-title a-color-base review-title-content a-text-bold'}).text.strip()\n",
    "            date_of_review = \" \".join(review_src.find(\"span\", attrs={'class': 'a-size-base a-color-secondary review-date'}).text.strip().split(\" \")[-3:])\n",
    "            review_text = review_src.find(\"span\", attrs={'class': 'a-size-base review-text review-text-content'}).text.strip()\n",
    "\n",
    "            reviews[\"User\"].append(user)\n",
    "            reviews[\"Rating\"].append(rating)\n",
    "            reviews[\"Brief Feedback\"].append(brief_feedback)\n",
    "            reviews[\"Date of Review\"].append(date_of_review)\n",
    "            reviews[\"Review Text\"].append(review_text)\n",
    "        \n",
    "        # Click on the next button\n",
    "        pagination_section = driver.find_element(by=By.CLASS_NAME, value=\"a-pagination\")\n",
    "        next_button = pagination_section.find_element(by=By.CLASS_NAME, value=\"a-last\")\n",
    "        next_button.click()\n",
    "        \n",
    "        # Give time to load\n",
    "        sleep(5)\n",
    "    except:\n",
    "        break;"
   ]
  },
  {
   "cell_type": "code",
   "execution_count": 13,
   "id": "6947baa6-92bf-41e1-9d26-020fa6b43c04",
   "metadata": {},
   "outputs": [
    {
     "data": {
      "text/plain": [
       "40"
      ]
     },
     "execution_count": 13,
     "metadata": {},
     "output_type": "execute_result"
    }
   ],
   "source": [
    "len(reviews[\"User\"]) # I intentionally interrupted the kernel so we are not getting more than 40 but we are facing problems\n",
    "# Check later cells to find out"
   ]
  },
  {
   "cell_type": "code",
   "execution_count": 16,
   "id": "ce52a2e1-32a5-4ca0-8a6e-81f0c4ecc59a",
   "metadata": {},
   "outputs": [],
   "source": [
    "# Convert the dictionary to dataframe and save to csv\n",
    "import pandas as pd\n",
    "\n",
    "reviews = pd.DataFrame(reviews)\n",
    "# reviews.to_csv(\"Apple iPhone 13 (128 GB) - Blue Reviews.csv\")\n",
    "reviews.to_csv(\"Samsung Galaxy M04 Dark Blue Reviews.csv\") # We are getting repeated results of the 1st Page only"
   ]
  },
  {
   "cell_type": "code",
   "execution_count": 17,
   "id": "810a0f86-8546-46dc-875c-12899a8dddbf",
   "metadata": {},
   "outputs": [],
   "source": [
    "# It is giving wrong results, let's check where we are going wrong\n",
    "\n",
    "url = \"https://www.amazon.in/Samsung-Galaxy-Storage-MediaTek-Battery/product-reviews/B0BMGB3CH9/ref=cm_cr_dp_d_show_all_btm?ie=UTF8&reviewerType=all_reviews\"\n",
    "driver.get(url)\n",
    "\n",
    "dummy = {\"User\": [], \"Rating\": [], \"Brief Feedback\": [], \"Date of Review\": [], \"Review Text\": []}\n",
    "\n",
    "i=0\n",
    "\n",
    "while(i<2):\n",
    "    try:\n",
    "        for review_src in review_soup.findAll(\"div\", attrs={\"class\": \"a-section celwidget\"}):\n",
    "            user = review_src.find(\"span\", attrs={'class': 'a-profile-name'}).text.strip()\n",
    "            rating = review_src.find(\"span\", attrs={\"class\": \"a-icon-alt\"}).text.strip().split(\" \")[0]\n",
    "            brief_feedback = review_src.find(\"a\", attrs={'class': 'a-size-base a-link-normal review-title a-color-base review-title-content a-text-bold'}).text.strip()\n",
    "            date_of_review = \" \".join(review_src.find(\"span\", attrs={'class': 'a-size-base a-color-secondary review-date'}).text.strip().split(\" \")[-3:])\n",
    "            review_text = review_src.find(\"span\", attrs={'class': 'a-size-base review-text review-text-content'}).text.strip()\n",
    "\n",
    "            dummy[\"User\"].append(user)\n",
    "            dummy[\"Rating\"].append(rating)\n",
    "            dummy[\"Brief Feedback\"].append(brief_feedback)\n",
    "            dummy[\"Date of Review\"].append(date_of_review)\n",
    "            dummy[\"Review Text\"].append(review_text)\n",
    "        \n",
    "        pagination_section = driver.find_element(by=By.CLASS_NAME, value=\"a-pagination\")\n",
    "        next_button = pagination_section.find_element(by=By.CLASS_NAME, value=\"a-last\")\n",
    "        next_button.click()\n",
    "        \n",
    "        sleep(5)\n",
    "        i+=1\n",
    "    except:\n",
    "        break;"
   ]
  },
  {
   "cell_type": "code",
   "execution_count": 18,
   "id": "d8adc172-aead-45e3-b8c1-c0df6c75c066",
   "metadata": {},
   "outputs": [
    {
     "data": {
      "text/plain": [
       "20"
      ]
     },
     "execution_count": 18,
     "metadata": {},
     "output_type": "execute_result"
    }
   ],
   "source": [
    "len(dummy['User'])"
   ]
  },
  {
   "cell_type": "code",
   "execution_count": 19,
   "id": "ee7fc139-8ab2-45a0-898e-a73abc1ed9a5",
   "metadata": {},
   "outputs": [
    {
     "data": {
      "text/plain": [
       "['P S Agarwal',\n",
       " 'SUMIT RATHORE',\n",
       " 'Saravanan G K',\n",
       " 'Srinivasa Rao Regula',\n",
       " 'NITIN MEHTA',\n",
       " 'Md Umair',\n",
       " 'Oindrila Basu',\n",
       " 'Rohit',\n",
       " 'zamirul hasan',\n",
       " 'saurabh gupta',\n",
       " 'P S Agarwal',\n",
       " 'SUMIT RATHORE',\n",
       " 'Saravanan G K',\n",
       " 'Srinivasa Rao Regula',\n",
       " 'NITIN MEHTA',\n",
       " 'Md Umair',\n",
       " 'Oindrila Basu',\n",
       " 'Rohit',\n",
       " 'zamirul hasan',\n",
       " 'saurabh gupta']"
      ]
     },
     "execution_count": 19,
     "metadata": {},
     "output_type": "execute_result"
    }
   ],
   "source": [
    "dummy['User']"
   ]
  },
  {
   "cell_type": "code",
   "execution_count": 20,
   "id": "c5bae34d-e8c4-48ab-9a10-66505ee26685",
   "metadata": {},
   "outputs": [],
   "source": [
    "# Mistake is that we are not updating the review_soup which is selecting the elements\n",
    "# It is always set to the first pages element so even I click next and go to next page\n",
    "# Source of the review_soup is still the same previous page of number 1\n",
    "\n",
    "url = \"https://www.amazon.in/Samsung-Galaxy-Storage-MediaTek-Battery/product-reviews/B0BMGB3CH9/ref=cm_cr_dp_d_show_all_btm?ie=UTF8&reviewerType=all_reviews\"\n",
    "driver.get(url)\n",
    "\n",
    "dummy = {\"User\": [], \"Rating\": [], \"Brief Feedback\": [], \"Date of Review\": [], \"Review Text\": []}\n",
    "\n",
    "i=0\n",
    "\n",
    "while(i<2):\n",
    "    try:\n",
    "        # Update the review_soup\n",
    "        src = driver.page_source\n",
    "        review_soup = BeautifulSoup(src, features=\"html.parser\")\n",
    "        \n",
    "        # Everything else is same like before\n",
    "        for review_src in review_soup.findAll(\"div\", attrs={\"class\": \"a-section celwidget\"}):\n",
    "            user = review_src.find(\"span\", attrs={'class': 'a-profile-name'}).text.strip()\n",
    "            rating = review_src.find(\"span\", attrs={\"class\": \"a-icon-alt\"}).text.strip().split(\" \")[0]\n",
    "            brief_feedback = review_src.find(\"a\", attrs={'class': 'a-size-base a-link-normal review-title a-color-base review-title-content a-text-bold'}).text.strip()\n",
    "            date_of_review = \" \".join(review_src.find(\"span\", attrs={'class': 'a-size-base a-color-secondary review-date'}).text.strip().split(\" \")[-3:])\n",
    "            review_text = review_src.find(\"span\", attrs={'class': 'a-size-base review-text review-text-content'}).text.strip()\n",
    "\n",
    "            dummy[\"User\"].append(user)\n",
    "            dummy[\"Rating\"].append(rating)\n",
    "            dummy[\"Brief Feedback\"].append(brief_feedback)\n",
    "            dummy[\"Date of Review\"].append(date_of_review)\n",
    "            dummy[\"Review Text\"].append(review_text)\n",
    "        \n",
    "        pagination_section = driver.find_element(by=By.CLASS_NAME, value=\"a-pagination\")\n",
    "        next_button = pagination_section.find_element(by=By.CLASS_NAME, value=\"a-last\")\n",
    "        next_button.click()\n",
    "        \n",
    "        sleep(5)\n",
    "        i+=1\n",
    "    except:\n",
    "        break;"
   ]
  },
  {
   "cell_type": "code",
   "execution_count": 21,
   "id": "4a6c06f1-1f8e-4e37-9cd8-8e3f2bf3dd5e",
   "metadata": {},
   "outputs": [
    {
     "data": {
      "text/plain": [
       "20"
      ]
     },
     "execution_count": 21,
     "metadata": {},
     "output_type": "execute_result"
    }
   ],
   "source": [
    "len(dummy['User'])"
   ]
  },
  {
   "cell_type": "code",
   "execution_count": 22,
   "id": "2d838949-91c7-4f93-9609-0804eb882978",
   "metadata": {},
   "outputs": [
    {
     "data": {
      "text/plain": [
       "['P S Agarwal',\n",
       " 'SUMIT RATHORE',\n",
       " 'Saravanan G K',\n",
       " 'Srinivasa Rao Regula',\n",
       " 'NITIN MEHTA',\n",
       " 'Md Umair',\n",
       " 'Oindrila Basu',\n",
       " 'Rohit',\n",
       " 'zamirul hasan',\n",
       " 'saurabh gupta',\n",
       " 'PANKAJ',\n",
       " 'Palash Das',\n",
       " 'Tamanna Sarkar',\n",
       " 'Vishnu VP',\n",
       " 'Shijas',\n",
       " 'PRONAY DAS',\n",
       " 'sreejith.c',\n",
       " 'Anil Chatla',\n",
       " 'Sundar',\n",
       " 'Girish Luthria']"
      ]
     },
     "execution_count": 22,
     "metadata": {},
     "output_type": "execute_result"
    }
   ],
   "source": [
    "dummy['User']"
   ]
  },
  {
   "cell_type": "code",
   "execution_count": 46,
   "id": "1e0b2cc7-97eb-4810-9f70-db5138e91e77",
   "metadata": {},
   "outputs": [],
   "source": [
    "# We successfully got the second page users as well, now we are good to go"
   ]
  },
  {
   "cell_type": "code",
   "execution_count": 23,
   "id": "96623e14-6ae3-4434-8410-32eebe2f43fa",
   "metadata": {},
   "outputs": [
    {
     "data": {
      "text/plain": [
       "<selenium.webdriver.remote.webelement.WebElement (session=\"e75b559352e9083fc9fba5ab53600ea4\", element=\"21066d6e-ce97-4fdd-9e74-00786a22d7a7\")>"
      ]
     },
     "execution_count": 23,
     "metadata": {},
     "output_type": "execute_result"
    }
   ],
   "source": [
    "# Problem is that we are getting trapped inside an infinite loop, let's find the solution\n",
    "# Let's first see with some other pages where your next button does not work\n",
    "dummy_url = \"https://www.amazon.in/Samsung-Galaxy-Storage-MediaTek-Battery/product-reviews/B0BMGB3CH9/ref=cm_cr_getr_d_paging_btm_next_2?ie=UTF8&reviewerType=avp_only_reviews&filterByStar=four_star&pageNumber=2&formatType=current_format\"\n",
    "\n",
    "driver.get(dummy_url)\n",
    "\n",
    "pagination_section = driver.find_element(by=By.CLASS_NAME, value=\"a-pagination\")\n",
    "\n",
    "pagination_section.find_element(by=By.CLASS_NAME, value=\"a-disabled\")"
   ]
  },
  {
   "cell_type": "code",
   "execution_count": 30,
   "id": "dec29a75-3ba9-4435-878e-6ddbf2f2d59b",
   "metadata": {},
   "outputs": [
    {
     "name": "stdout",
     "output_type": "stream",
     "text": [
      "It has next button enabled!\n"
     ]
    }
   ],
   "source": [
    "# Change the url to another page which has next button enabled\n",
    "dummy_url = \"https://www.amazon.in/Samsung-Galaxy-Storage-MediaTek-Battery/product-reviews/B0BMGB3CH9/ref=cm_cr_getr_d_paging_btm_prev_1?ie=UTF8&reviewerType=avp_only_reviews&filterByStar=four_star&pageNumber=1&formatType=current_format\"\n",
    "\n",
    "driver.get(dummy_url)\n",
    "\n",
    "pagination_section = driver.find_element(by=By.CLASS_NAME, value=\"a-pagination\")\n",
    "\n",
    "if pagination_section.find_element(by=By.CLASS_NAME, value=\"a-disabled\").text == \"Next page\":\n",
    "    print(\"It has next button disabled!\")\n",
    "else:\n",
    "    print(\"It has next button enabled!\")"
   ]
  },
  {
   "cell_type": "code",
   "execution_count": 61,
   "id": "dcdce7d7-4f1c-44c6-b2ef-1b47e50a6145",
   "metadata": {},
   "outputs": [],
   "source": [
    "# We succeded in finding the ending condition of our infinite loop"
   ]
  },
  {
   "cell_type": "code",
   "execution_count": 42,
   "id": "9e38cecb-7d59-492d-817e-2a35363c5c3c",
   "metadata": {},
   "outputs": [],
   "source": [
    "# If you ran the above cells then the driver is not on the first page, so bring it to the first page\n",
    "url = \"https://www.amazon.in/Samsung-Galaxy-Storage-MediaTek-Battery/product-reviews/B0BMGB3CH9/ref=cm_cr_dp_d_show_all_btm?ie=UTF8&reviewerType=all_reviews\"\n",
    "driver.get(url)\n",
    "\n",
    "# Dictionary to store the reviews\n",
    "reviews = {\"User\": [], \"Rating\": [], \"Brief Feedback\": [], \"Date of Review\": [], \"Review Text\": []}\n",
    "\n",
    "# Keep on clicking next untill the end, and store the reviews\n",
    "while(1):\n",
    "    # Update the review_soup\n",
    "    src = driver.page_source\n",
    "    review_soup = BeautifulSoup(src, features=\"html.parser\")\n",
    "    \n",
    "    # Store the reviews of that specific page\n",
    "    for review_src in review_soup.findAll(\"div\", attrs={\"class\": \"a-section celwidget\"}):\n",
    "        user = review_src.find(\"span\", attrs={'class': 'a-profile-name'}).text.strip()\n",
    "        rating = review_src.find(\"span\", attrs={\"class\": \"a-icon-alt\"}).text.strip().split(\" \")[0]\n",
    "        brief_feedback = review_src.find(\"a\", attrs={'class': 'a-size-base a-link-normal review-title a-color-base review-title-content a-text-bold'}).text.strip()\n",
    "        date_of_review = \" \".join(review_src.find(\"span\", attrs={'class': 'a-size-base a-color-secondary review-date'}).text.strip().split(\" \")[-3:])\n",
    "        review_text = review_src.find(\"span\", attrs={'class': 'a-size-base review-text review-text-content'}).text.strip()\n",
    "\n",
    "        reviews[\"User\"].append(user)\n",
    "        reviews[\"Rating\"].append(rating)\n",
    "        reviews[\"Brief Feedback\"].append(brief_feedback)\n",
    "        reviews[\"Date of Review\"].append(date_of_review)\n",
    "        reviews[\"Review Text\"].append(review_text)\n",
    "\n",
    "    # The section where next button is present\n",
    "    pagination_section = driver.find_element(by=By.CLASS_NAME, value=\"a-pagination\")\n",
    "    \n",
    "    # when next button is disabled then next button will have the class name \"a-disabled a-last\"\n",
    "    # If not the last page then click on the next button\n",
    "    if not pagination_section.find_element(by=By.CLASS_NAME, value=\"a-last\").get_attribute(\"class\") == \"a-disabled a-last\":\n",
    "        next_button = pagination_section.find_element(by=By.CLASS_NAME, value=\"a-last\")\n",
    "        next_button.click() # Throws error when next button is disabled\n",
    "        # Give time to load\n",
    "        sleep(3)\n",
    "    else:\n",
    "        break"
   ]
  },
  {
   "cell_type": "code",
   "execution_count": 41,
   "id": "86d861c7-76a1-407d-aebf-e0cdd85ffe44",
   "metadata": {},
   "outputs": [
    {
     "data": {
      "text/plain": [
       "True"
      ]
     },
     "execution_count": 41,
     "metadata": {},
     "output_type": "execute_result"
    }
   ],
   "source": [
    "# Condition of the last page\n",
    "# Next button is disabled\n",
    "pagination_section.find_element(by=By.CLASS_NAME, value=\"a-last\").get_attribute(\"class\")==\"a-disabled a-last\""
   ]
  },
  {
   "cell_type": "code",
   "execution_count": 43,
   "id": "510488c6-51f9-4fb8-addd-70a2dddeca2c",
   "metadata": {},
   "outputs": [
    {
     "data": {
      "text/plain": [
       "394"
      ]
     },
     "execution_count": 43,
     "metadata": {},
     "output_type": "execute_result"
    }
   ],
   "source": [
    "len(reviews['User'])"
   ]
  },
  {
   "cell_type": "code",
   "execution_count": 44,
   "id": "ebe0fd29-5dba-43e7-8c9b-e2da6f3f95ce",
   "metadata": {},
   "outputs": [
    {
     "data": {
      "text/plain": [
       "['P S Agarwal',\n",
       " 'SUMIT RATHORE',\n",
       " 'Saravanan G K',\n",
       " 'Srinivasa Rao Regula',\n",
       " 'NITIN MEHTA',\n",
       " 'Md Umair',\n",
       " 'Oindrila Basu',\n",
       " 'Rohit',\n",
       " 'zamirul hasan',\n",
       " 'saurabh gupta',\n",
       " 'PANKAJ',\n",
       " 'Palash Das',\n",
       " 'Tamanna Sarkar',\n",
       " 'Vishnu VP',\n",
       " 'Shijas',\n",
       " 'PRONAY DAS',\n",
       " 'sreejith.c',\n",
       " 'Anil Chatla',\n",
       " 'Sundar',\n",
       " 'Girish Luthria',\n",
       " 'Raghvendra Singh',\n",
       " 'CPA',\n",
       " 'SUDHARMAN',\n",
       " 'Rajesh Kumar',\n",
       " 'Firaz Ameer K',\n",
       " 'Anjali',\n",
       " 'Nagendra K.',\n",
       " 'Harshith Shetty',\n",
       " 'vipin',\n",
       " 'Mohammad Ashraf',\n",
       " 'Sidhartha P.',\n",
       " 'Raju',\n",
       " 'Adil Mulla',\n",
       " 'Abhishek Kumar Sharma',\n",
       " 'Shesh',\n",
       " 'Atul Raheja',\n",
       " 'tharik',\n",
       " 'Momin Mohammadnasir V',\n",
       " 'RAMA',\n",
       " 'Amazon Customer',\n",
       " 'Vaibhav saxena',\n",
       " 'Customer',\n",
       " 'Lakshmipathi',\n",
       " 'HariBol ❤',\n",
       " 'Ajith M',\n",
       " 'Santosh',\n",
       " 'Amazon Customer',\n",
       " 'Venu Singani',\n",
       " 'V Arumugaperumal',\n",
       " 'Sagili',\n",
       " 'rudraksh sharma',\n",
       " 'Mohammed Shoaib',\n",
       " 'Bhanu',\n",
       " 'Shravya shree s r',\n",
       " 'vikash kumar keshri',\n",
       " 'Shrinidhi',\n",
       " 'Digambar',\n",
       " 'GANESH KUMAR',\n",
       " 'Swati',\n",
       " 'Abijith',\n",
       " 'Roger',\n",
       " 'prasad palla',\n",
       " 'SUBBIAH',\n",
       " 'Sartaj ahmad',\n",
       " 'Anand.j',\n",
       " 'Anil Sharma',\n",
       " 'Ravi shankar tiwari',\n",
       " 'Suresh Yadlapalli',\n",
       " 'PradipK',\n",
       " 'Kamakshi Sharma',\n",
       " 'Sethuraman,S',\n",
       " 'Mohammed Iqbal',\n",
       " 'Sandeep P.',\n",
       " 'Sudeep  Sen',\n",
       " 'Alok Kumar Gupta',\n",
       " 'Amit Patki',\n",
       " 'Ashutosh Prakash Sutar',\n",
       " 'Krunal',\n",
       " 'Tanya Gupta',\n",
       " 'naveen pandey',\n",
       " 'Prakash',\n",
       " 'jasbirmaan',\n",
       " 'Shiv',\n",
       " 'GUFRAN',\n",
       " 'Gokulnath C',\n",
       " 'Mary Kruba',\n",
       " 'Placeholder',\n",
       " 'Tijo David',\n",
       " 'Sukhwinder Kaur',\n",
       " 'Rishabh',\n",
       " 'Helmet Dude',\n",
       " 'SASIKUMAR R',\n",
       " 'Star',\n",
       " 'Vimal',\n",
       " 'Rupchand Patil',\n",
       " 'Adul',\n",
       " '🙏🏽',\n",
       " 'Placeholder',\n",
       " 'Amazon Customer',\n",
       " 'UMESH',\n",
       " 'Vinod Dhage',\n",
       " 'Tina Dhagai',\n",
       " 'Bipin',\n",
       " 'Ganesh',\n",
       " 'Amit Navdiwala',\n",
       " 'Heer singh',\n",
       " 'Tej Singh',\n",
       " 'Haridasan PK',\n",
       " 'Good Quality',\n",
       " 'Amazon Customer',\n",
       " 'wakil',\n",
       " 'mohit pal',\n",
       " 'Twinkle Vora',\n",
       " 'Amazon Customer',\n",
       " 'Belal Ahmad baig',\n",
       " 'rupesh chandrawanshi',\n",
       " 'HM PRABHUDEVA SALES AND SERVICE',\n",
       " 'Yaswanth',\n",
       " 'PSV',\n",
       " 'Hussain K.',\n",
       " 'Md irshad',\n",
       " 'Amazon Customer',\n",
       " 'Atul N.',\n",
       " 'Shubham',\n",
       " 'shahnawaz',\n",
       " 'Mukesh Kumar',\n",
       " 'Suraj',\n",
       " 'Jogender R.',\n",
       " 'Nitika Garg',\n",
       " 'Pritam thombre',\n",
       " 'Anubhav Saxena',\n",
       " 'Simpa Jain',\n",
       " 'Sudhansu Panda',\n",
       " 'suraj',\n",
       " 'Ritu',\n",
       " 'Ahmad Hussain',\n",
       " 'Princepal',\n",
       " 'Raman',\n",
       " 'Ankit Bansal',\n",
       " 'deepanshu valecha',\n",
       " 'PERUMAL S P',\n",
       " 'Yogi Bansal',\n",
       " 'bhupesh',\n",
       " 'Dimple b.',\n",
       " 'Neelam',\n",
       " 'SURINDER',\n",
       " 'khushal garg',\n",
       " 'Yogesh Kumar',\n",
       " 'Hemant',\n",
       " 'Kudrat',\n",
       " 'Amit prajapati',\n",
       " 'suraj',\n",
       " 'Anil Kumar',\n",
       " 'Mohanavannan Pichai',\n",
       " 'Kiran Pimpalkar',\n",
       " 'dimple',\n",
       " 'Amazon Customer',\n",
       " 'Ganesh',\n",
       " 'Monu bansal',\n",
       " 'Ruchika',\n",
       " 'DURGADAS MALHARRAO PATIL',\n",
       " 'Yogesh kumar',\n",
       " 'Manish valecha',\n",
       " 'Yash Sharma',\n",
       " 'Dimple',\n",
       " 'Kuldeep',\n",
       " 'AMEY PANDIT',\n",
       " 'Khushal Garg',\n",
       " 'Seema prajapati',\n",
       " 'Subhash Bansal',\n",
       " 'Yogesh Kumar',\n",
       " 'Chetan singla',\n",
       " 'Ashish Jha',\n",
       " 'Muskan dixit',\n",
       " 'Tusharkumar Desai',\n",
       " 'Anmol',\n",
       " 'Ram Prakash',\n",
       " 'Ravikant',\n",
       " 'Abhishek  Sharma',\n",
       " 'Himanshu',\n",
       " 'Upendra Krishnan',\n",
       " 'Kalyan',\n",
       " 'Pranab',\n",
       " 'Bala ji',\n",
       " 'Pawan chaurasiya',\n",
       " 'Mayank',\n",
       " 'nisa',\n",
       " 'Aniket raj',\n",
       " 'Sachin',\n",
       " 'Raj',\n",
       " 'Madhu',\n",
       " 'Harf',\n",
       " 'Dinesh',\n",
       " 'shaswat',\n",
       " 'Ramesh',\n",
       " 'Shrey Khare',\n",
       " 'Aayush kumar',\n",
       " 'Rohit garg',\n",
       " 'Paras Fofaria',\n",
       " 'Abhinaba Ghosh',\n",
       " 'Nagarajan',\n",
       " 'harpreet',\n",
       " 'Deepak',\n",
       " 'RahuL',\n",
       " 'Ss panda',\n",
       " 'anmol kumar',\n",
       " 'chandaka ramunaidu',\n",
       " 'Malik Bhai',\n",
       " 'Deepu Sunny',\n",
       " 'SangeetElectronic',\n",
       " 'Vijay Ratan',\n",
       " 'Aman',\n",
       " 'Sandeep Kumar',\n",
       " 'Akash Shinde',\n",
       " 'Ayush Ranka',\n",
       " 'Garvit',\n",
       " 'Akshy jain',\n",
       " 'naveen',\n",
       " 'Placeholder',\n",
       " 'Rizman',\n",
       " 'kapilmehta',\n",
       " 'Prajapti suresh Kumar',\n",
       " 'Rohan Kodihal',\n",
       " 'simanto',\n",
       " 'Harry Goyal',\n",
       " 'Manik gaba',\n",
       " 'Vikas Anand',\n",
       " 'Manish Puri',\n",
       " 'Harrrrrr',\n",
       " 'AG',\n",
       " 'Dinu',\n",
       " 'Amit Kumar Sharma',\n",
       " 'Mohd Mohsin Husain',\n",
       " 'Ashish Jain',\n",
       " 'A K Sharma',\n",
       " 'YOGENDRA PAL (YOGI)',\n",
       " 'Sayma naz',\n",
       " 'Pushkar Mishra',\n",
       " 'Anil Garg',\n",
       " 'jami',\n",
       " 'saravanan',\n",
       " 'Sajid khan',\n",
       " 'A.ashokraju',\n",
       " 'Vikash Parashar',\n",
       " 'Dimple',\n",
       " 'Sunil suman',\n",
       " 'Paraskumar',\n",
       " 'Tajamul shareef',\n",
       " 'Anil',\n",
       " 'Mukesh Kumar',\n",
       " 'Mittalba dabhi',\n",
       " 'Savita',\n",
       " 'Amir margub',\n",
       " 'Akram Khan',\n",
       " 'Sivakumar',\n",
       " 'Meherunnesha Sarkar',\n",
       " 'dinesh kumar',\n",
       " 'Kindle Customer',\n",
       " 'neeraja daita',\n",
       " 'Vinit',\n",
       " 'Khalid Ahmed',\n",
       " 'Amazon Customer',\n",
       " 'Ahfaz khan',\n",
       " 'Rashmi',\n",
       " 'Chennai User',\n",
       " 'Prince',\n",
       " 'Yogi bansal',\n",
       " 'Mehfooz Alam',\n",
       " 'Placeholder',\n",
       " 'NIRAJ',\n",
       " 'Yogesh Kumar',\n",
       " 'Cheriyachan',\n",
       " 'Manik Mahto',\n",
       " 'Gurpreet',\n",
       " 'Ankita Kamboj',\n",
       " 'Ashok K.',\n",
       " 'Swami',\n",
       " 'Amazon Customer',\n",
       " 'CMS',\n",
       " 'Sharath kumar reddy',\n",
       " 'V ESWAR RAO',\n",
       " 'A K SINHA',\n",
       " 'Gp',\n",
       " 'Geetha',\n",
       " 'Aditya Jain',\n",
       " 'erorr',\n",
       " 'Arvind',\n",
       " 'GpKunwar',\n",
       " 'ragnar',\n",
       " 'Ashok',\n",
       " 'E.TEJAKRISHNA REDDY',\n",
       " 'Gotivada Srikanth',\n",
       " 'Placeholder',\n",
       " 'ramesh',\n",
       " 'vishu jain',\n",
       " 'VENUGOPAL',\n",
       " 'ujjwal kumar',\n",
       " 'Madhivanan chellappa',\n",
       " 'Vijayakandeepan',\n",
       " 'Rohit',\n",
       " 'Itsmedg',\n",
       " 'Tarun',\n",
       " 'Gaurav nassa',\n",
       " 'Susanta Karmakar',\n",
       " 'Raghawrahi',\n",
       " 'Amazon Customer',\n",
       " 'Shruti',\n",
       " 'praful',\n",
       " 'Jatin',\n",
       " 'Himanshu Shekhar Behera',\n",
       " 'Manish Kumar',\n",
       " 'Weldingvelu',\n",
       " 'hemasaikiran chakka',\n",
       " 'shubkansh',\n",
       " 'Sandeep',\n",
       " 'Narmada',\n",
       " 'vinay kumar',\n",
       " 'Madhi Mk',\n",
       " 'SOUL BEAUTY',\n",
       " 'Sahara',\n",
       " 'srikanth ch',\n",
       " 'Monika',\n",
       " 'shijo',\n",
       " 'Arun',\n",
       " '9989264928',\n",
       " 'shadab',\n",
       " 'Tv Ramana reddy',\n",
       " 'Vijayan Srinivasan',\n",
       " 'Narayanan V',\n",
       " 'Deepak Kothari',\n",
       " 'Prasant',\n",
       " 'Mukesh yadav',\n",
       " 'BABULAL N PASI',\n",
       " 'Sudharsan',\n",
       " 'manish singhal',\n",
       " 'Rajesh',\n",
       " 'Avinash maurya',\n",
       " 'Alok kumar singh',\n",
       " 'Vijay Krishna',\n",
       " 'Amazon Customer',\n",
       " 'sai',\n",
       " 'Amazon Customer',\n",
       " 'Amazon Customer',\n",
       " 'Jakin',\n",
       " 'Ravi',\n",
       " 'NaveenKumar Adepu',\n",
       " 'Amazon Customer',\n",
       " 'rajat',\n",
       " 'Jignesh',\n",
       " 'Placeholder',\n",
       " 'Ashwani',\n",
       " 'Mamta',\n",
       " 'Amazon Customer',\n",
       " 'Sandeep',\n",
       " 'rajesh kumar',\n",
       " 'Amazon Customer',\n",
       " 'Pradeep Patel',\n",
       " 'Gurpreet',\n",
       " 'Tulasi Ram kumawat',\n",
       " 'Ravindrabhai bambhaniya',\n",
       " 'Mahesh Bandpatte',\n",
       " 'Meenakshi Verma',\n",
       " 'Krishna Prasad',\n",
       " 'Sachin Gouda',\n",
       " 'Rajesh V K',\n",
       " 'Sujit Bag',\n",
       " 'RITIK KUMAR',\n",
       " 'Amazon Customer',\n",
       " 'Fashion gallery',\n",
       " 'Mahesh',\n",
       " 'Ritu',\n",
       " 'Noorul hasan',\n",
       " 'Pawan',\n",
       " 'Deepak arora',\n",
       " 'Gopal sharma',\n",
       " 'Heating problem in 1month',\n",
       " 'dolly',\n",
       " 'imran lakdawala',\n",
       " 'Harsha Maddipati',\n",
       " 'Babita Mandal',\n",
       " 'pankaj',\n",
       " 'Asif',\n",
       " 'Arun kanti roy',\n",
       " 'Ajay Sharma',\n",
       " 'Md waseem',\n",
       " 'Kavya Pillai',\n",
       " 'Apoorva Mishra',\n",
       " 'Sandeep Kaur',\n",
       " 'Mohit thapliyal',\n",
       " 'Nishant',\n",
       " 'B Kishore',\n",
       " 'Shashank Gupta',\n",
       " 'Navtej Singh',\n",
       " 'Amazon Customer']"
      ]
     },
     "execution_count": 44,
     "metadata": {},
     "output_type": "execute_result"
    }
   ],
   "source": [
    "reviews['User']"
   ]
  },
  {
   "cell_type": "code",
   "execution_count": 46,
   "id": "ed093b6f-a100-4b10-b220-1ce5dea102dd",
   "metadata": {},
   "outputs": [],
   "source": [
    "# Convert the dictionary to dataframe and save to csv\n",
    "import pandas as pd\n",
    "\n",
    "reviews = pd.DataFrame(reviews)\n",
    "reviews.to_csv(\"Samsung Galaxy M04 Dark Blue Reviews.csv\")"
   ]
  }
 ],
 "metadata": {
  "kernelspec": {
   "display_name": "Python 3 (ipykernel)",
   "language": "python",
   "name": "python3"
  },
  "language_info": {
   "codemirror_mode": {
    "name": "ipython",
    "version": 3
   },
   "file_extension": ".py",
   "mimetype": "text/x-python",
   "name": "python",
   "nbconvert_exporter": "python",
   "pygments_lexer": "ipython3",
   "version": "3.9.12"
  }
 },
 "nbformat": 4,
 "nbformat_minor": 5
}
